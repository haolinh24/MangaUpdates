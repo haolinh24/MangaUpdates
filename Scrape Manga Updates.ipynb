{
 "cells": [
  {
   "cell_type": "code",
   "execution_count": 103,
   "metadata": {},
   "outputs": [],
   "source": [
    "import pandas as pd\n",
    "import requests\n",
    "from bs4 import BeautifulSoup as bs\n",
    "import time # we'll use this for timing how long things take..."
   ]
  },
  {
   "cell_type": "code",
   "execution_count": 104,
   "metadata": {},
   "outputs": [],
   "source": [
    "page = \"https://www.mangaupdates.com/groups.html?id=8904\"\n",
    "req = requests.get(page)\n",
    "d_soup = bs(req.content)\n",
    "OtherInfo = d_soup.find_all(\"div\", \"p-1 col-6 text\")"
   ]
  },
  {
   "cell_type": "code",
   "execution_count": 105,
   "metadata": {
    "collapsed": true
   },
   "outputs": [
    {
     "data": {
      "text/plain": [
       "[<div class=\"p-1 col-6 text\"><u>Group Name</u></div>,\n",
       " <div class=\"p-1 col-6 text\"><u>IRC</u></div>,\n",
       " <div class=\"p-1 col-6 text\"><i>No IRC</i></div>,\n",
       " <div class=\"p-1 col-6 text\"><u>Twitter</u></div>,\n",
       " <div class=\"p-1 col-6 text\"><i>No Twitter</i></div>,\n",
       " <div class=\"p-1 col-6 text\"><u>Facebook</u></div>,\n",
       " <div class=\"p-1 col-6 text\"><i>No Facebook</i></div>,\n",
       " <div class=\"p-1 col-6 text\"><u>Release Frequency</u></div>,\n",
       " <div class=\"p-1 col-6 text\">Often. About every 1 to 2 day(s)</div>,\n",
       " <div class=\"p-1 col-6 text\"><u>Number of Releases</u></div>,\n",
       " <div class=\"p-1 col-6 text\">392</div>,\n",
       " <div class=\"p-1 col-6 text\"><u>Active</u><br/>A group is designated as inactive<br/>if it hasn't release in the past 6 months.</div>,\n",
       " <div class=\"p-1 col-6 text\">Yes</div>,\n",
       " <div class=\"p-1 col-6 text\"><u>Total Series</u></div>,\n",
       " <div class=\"p-1 col-6 text\">74</div>,\n",
       " <div class=\"p-1 col-6 text\"><u>Genres</u><br/>Main genres this group scanlates.</div>,\n",
       " <div class=\"p-1 col-6 text\">Romance (64), Shoujo (54), School Life (44), Comedy (18), Drama (18), Slice of Life (16), Yaoi (8), Josei (4), Harem (2), Supernatural (2), Psychological (2), Sports (1), Mystery (1), Shounen Ai (1), Gender Bender (1), Smut (1)</div>,\n",
       " <div class=\"p-1 col-6 text\"><u>Categories</u><br/>Main categories this group scanlates.</div>,\n",
       " <div class=\"p-1 col-6 text\">High School Student/s (39), High School (24), Student-Student Relationship (17), Popular Male Lead (16), Love Triangle/s (13), Childhood Friend/s (12), Older Male Younger Female (11), 21st Century (9), Classmate/s (9), Handsome Male Lead (9), Japan (9), Kind Male Lead (9), Female Lead Falls in Love First (7), Unrequited Love (7), Fast Romance (6), Live-in Lover (6), Male Lead Falls in Love First (6), Part-Time Job (6), Senpai-Kouhai Relationship (6), Age Gap (5)</div>]"
      ]
     },
     "execution_count": 105,
     "metadata": {},
     "output_type": "execute_result"
    }
   ],
   "source": [
    "OtherInfo"
   ]
  },
  {
   "cell_type": "code",
   "execution_count": 72,
   "metadata": {},
   "outputs": [],
   "source": [
    "def GroupName(d_soup):\n",
    "    \n",
    "    GroupName = d_soup.find_all(\"div\", \"p-1 col-6 specialtext\")\n",
    "    return GroupName[0].text\n"
   ]
  },
  {
   "cell_type": "code",
   "execution_count": 74,
   "metadata": {},
   "outputs": [],
   "source": [
    "def ReleaseFrequency(OtherInfo):\n",
    "    ReleaseFrequency = OtherInfo[8].text\n",
    "    return ReleaseFrequency"
   ]
  },
  {
   "cell_type": "code",
   "execution_count": 76,
   "metadata": {},
   "outputs": [],
   "source": [
    "def NumberofRelease(OtherInfo):\n",
    "    NumberofRelease = OtherInfo[10].text\n",
    "    return NumberofRelease"
   ]
  },
  {
   "cell_type": "code",
   "execution_count": 77,
   "metadata": {},
   "outputs": [],
   "source": [
    "def Active_or_Not(OtherInfo):\n",
    "    Active_or_Not = OtherInfo[12].text\n",
    "    return Active_or_Not"
   ]
  },
  {
   "cell_type": "code",
   "execution_count": 39,
   "metadata": {},
   "outputs": [
    {
     "data": {
      "text/plain": [
       "'74'"
      ]
     },
     "execution_count": 39,
     "metadata": {},
     "output_type": "execute_result"
    }
   ],
   "source": [
    "def Total_Series(OtherInfo):\n",
    "    Total_Series = OtherInfo[14].text\n",
    "    return Total_Series"
   ]
  },
  {
   "cell_type": "code",
   "execution_count": 134,
   "metadata": {},
   "outputs": [
    {
     "data": {
      "text/plain": [
       "'Romance (64), Shoujo (54), School Life (44), Comedy (18), Drama (18), Slice of Life (16), Yaoi (8), Josei (4), Harem (2), Supernatural (2), Psychological (2), Sports (1), Mystery (1), Shounen Ai (1), Gender Bender (1), Smut (1)'"
      ]
     },
     "execution_count": 134,
     "metadata": {},
     "output_type": "execute_result"
    }
   ],
   "source": [
    "Genres = OtherInfo[16].text\n",
    "Genres"
   ]
  },
  {
   "cell_type": "code",
   "execution_count": 146,
   "metadata": {},
   "outputs": [
    {
     "data": {
      "text/plain": [
       "['Romance (64)',\n",
       " 'Shoujo (54)',\n",
       " 'School Life (44)',\n",
       " 'Comedy (18)',\n",
       " 'Drama (18)',\n",
       " 'Slice of Life (16)',\n",
       " 'Yaoi (8)',\n",
       " 'Josei (4)',\n",
       " 'Harem (2)',\n",
       " 'Supernatural (2)',\n",
       " 'Psychological (2)',\n",
       " 'Sports (1)',\n",
       " 'Mystery (1)',\n",
       " 'Shounen Ai (1)',\n",
       " 'Gender Bender (1)',\n",
       " 'Smut (1)']"
      ]
     },
     "execution_count": 146,
     "metadata": {},
     "output_type": "execute_result"
    }
   ],
   "source": [
    "List_Genres = Genres.split(\",\")\n",
    "List_Genres_New = []\n",
    "for i in List_Genres: \n",
    "    i = i.strip(' ')\n",
    "    List_Genres_New.append(i)\n",
    "List_Genres_New"
   ]
  },
  {
   "cell_type": "code",
   "execution_count": 172,
   "metadata": {},
   "outputs": [
    {
     "data": {
      "text/plain": [
       "{'Action': 0,\n",
       " 'Adult': 0,\n",
       " 'Adventure': 0,\n",
       " 'Comedy': 0,\n",
       " 'Doujinshi': 0,\n",
       " 'Drama': 0,\n",
       " 'Ecchi': 0,\n",
       " 'Fantasy': 0,\n",
       " 'Gender Bender': 0,\n",
       " 'Harem': 0,\n",
       " 'Hentai': 0,\n",
       " 'Historical': 0,\n",
       " 'Horror': 0,\n",
       " 'Josei': 0,\n",
       " 'Lolicon': 0,\n",
       " 'Martial Arts': 0,\n",
       " 'Mature': 0,\n",
       " 'Mecha': 0,\n",
       " 'Mystery': 0,\n",
       " 'Psychological': 0,\n",
       " 'Romance': 0,\n",
       " 'School Life': 0,\n",
       " 'Sci-fi': 0,\n",
       " 'Seinen': 0,\n",
       " 'Shotacon': 0,\n",
       " 'Shoujo': 0,\n",
       " 'Shoujo Ai': 0,\n",
       " 'Shounen': 0,\n",
       " 'Shounen Ai': 0,\n",
       " 'Slice of Life': 0,\n",
       " 'Smut': '1',\n",
       " 'Sports': 0,\n",
       " 'Supernatural': 0,\n",
       " 'Tragedy': 0,\n",
       " 'Yaoi': 0,\n",
       " 'Yuri': 0}"
      ]
     },
     "execution_count": 172,
     "metadata": {},
     "output_type": "execute_result"
    }
   ],
   "source": [
    "All_Genres = ['Action','Adult','Adventure','Comedy','Doujinshi','Drama','Ecchi','Fantasy','Gender Bender','Harem','Hentai','Historical','Horror','Josei','Lolicon','Martial Arts','Mature','Mecha','Mystery','Psychological','Romance','School Life','Sci-fi','Seinen','Shotacon','Shoujo','Shoujo Ai','Shounen', 'Shounen Ai','Slice of Life','Smut','Sports','Supernatural','Tragedy','Yaoi','Yuri']\n",
    "dict_genres = {}\n",
    "for j in All_Genres: \n",
    "    for genre in List_Genres_New:\n",
    "        for i in range(len(genre)):\n",
    "                if genre[i] == '(':\n",
    "                    start = i\n",
    "                if genre[i] == ')':\n",
    "                    end = i\n",
    "                if genre[:start-1]==j:\n",
    "                        dict_genres[j] = genre[start+1:end]\n",
    "                else:\n",
    "                        dict_genres[j] = 0\n",
    "               \n",
    "dict_genres"
   ]
  },
  {
   "cell_type": "code",
   "execution_count": 253,
   "metadata": {},
   "outputs": [
    {
     "name": "stdout",
     "output_type": "stream",
     "text": [
      "['Romance']\n",
      "['Shoujo']\n",
      "['School Life']\n",
      "['Comedy']\n",
      "['Drama']\n",
      "['Slice of Life']\n",
      "['Yaoi']\n",
      "['Josei']\n",
      "['Harem']\n",
      "['Supernatural']\n",
      "['Psychological']\n",
      "['Sports']\n",
      "['Mystery']\n",
      "['Shounen Ai']\n",
      "['Gender Bender']\n",
      "['Smut']\n"
     ]
    }
   ],
   "source": [
    "import re\n",
    "List_Genres_New\n",
    "# for x in range(len(All_Genres)):\n",
    "for i in range(len(List_Genres_New)): \n",
    "    genre = List_Genres_New[i]\n",
    "    genre_name = re.findall(r\"([a-zA-z\\s]+)\\s\", genre)\n",
    "    print(genre_name)\n",
    "    \n"
   ]
  },
  {
   "cell_type": "code",
   "execution_count": 238,
   "metadata": {},
   "outputs": [
    {
     "name": "stdout",
     "output_type": "stream",
     "text": [
      "['64']\n",
      "['54']\n",
      "['44']\n",
      "['18']\n",
      "['18']\n",
      "['16']\n",
      "['8']\n",
      "['4']\n",
      "['2']\n",
      "['2']\n",
      "['2']\n",
      "['1']\n",
      "['1']\n",
      "['1']\n",
      "['1']\n",
      "['1']\n"
     ]
    }
   ],
   "source": [
    "# test the genre number   \n",
    "for i in range(len(List_Genres_New)): \n",
    "    genre = List_Genres_New[i]\n",
    "    genre_num = re.findall(r\"[0-9]+\", genre)\n",
    "#     genre_num = \" \".join(genre_num)\n",
    "    print(genre_num)"
   ]
  },
  {
   "cell_type": "code",
   "execution_count": 131,
   "metadata": {},
   "outputs": [],
   "source": [
    "def get_last_updated_day(d_soup):\n",
    "    last_updated_day = d_soup.find_all(\"div\", \"col-2 text\")[0].text\n",
    "    return last_updated_day"
   ]
  },
  {
   "cell_type": "code",
   "execution_count": 132,
   "metadata": {},
   "outputs": [],
   "source": [
    "# Get the founding day of the group\n",
    "def founding_day(d_soup):\n",
    "    #FIRST, GET THE NUMBER OF THE GROUP'S RELEASE PAGES\n",
    "    total_page_unclean = d_soup.find_all(\"span\",\"d-none\")[0].text.strip()\n",
    "    #split the word pages and the number of page\n",
    "    total_page_split = total_page_unclean.split(' ')\n",
    "    #take the number out\n",
    "    page_series_number = total_page_split[1].strip('()')\n",
    "    #SECOND, GO TO THE LAST PAGE OF RELEASE PAGES\n",
    "    for i in range(len(page)): \n",
    "        if page[i] == \"?\":\n",
    "            insert = i\n",
    "            turn_page = page[:(insert+1)] + \"page={}&\".format(page_series_number) + page[(insert+1):]\n",
    "    #FINALLY, TAKE THE FOUNDING DAY\n",
    "    req_founding_day_page_link = requests.get(turn_page)\n",
    "    soup_founding_day_page_content = bs(req_founding_day_page_link.content)\n",
    "    founding_day_init = soup_founding_day_page_content.find_all(\"div\",\"col-2 text\")\n",
    "\n",
    "    return founding_day_init[len(founding_day_init)-1].text\n",
    " \n",
    "    "
   ]
  },
  {
   "cell_type": "code",
   "execution_count": null,
   "metadata": {},
   "outputs": [],
   "source": []
  },
  {
   "cell_type": "markdown",
   "metadata": {},
   "source": [
    " TEST TO SEE IF THE ABOVE CODES ARE APPLICABLE TO OTHER GROUPS"
   ]
  },
  {
   "cell_type": "code",
   "execution_count": 48,
   "metadata": {},
   "outputs": [
    {
     "data": {
      "text/plain": [
       "<!DOCTYPE HTML PUBLIC \"-//W3C//DTD HTML 4.01 Transitional//EN\" \"http://www.w3.org/TR/html4/loose.dtd\">\n",
       "<html>\n",
       "<head>\n",
       "<title>Baka-Updates Manga - ...and other escapades</title>\n",
       "<meta content=\"Latest And Newest Manga Release Updates and News.\" name=\"description\"/>\n",
       "<meta content=\"manga, anime, updates, update, releases, release, new, scanlators, scanlator, wiki\" name=\"keywords\"/>\n",
       "<meta content=\"text/html; charset=utf-8\" http-equiv=\"Content-Type\"/>\n",
       "<meta content=\"Manick(Code&amp;Html)JYT(Design)\" name=\"author\"/>\n",
       "<meta content=\"width=device-width, initial-scale=1.0\" name=\"viewport\"/>\n",
       "<link href=\"favicon.ico\" rel=\"shortcut icon\"/>\n",
       "<link href=\"dist/main.26f679a5b9bf274231c0.css\" rel=\"stylesheet\" type=\"text/css\"/>\n",
       "<link href=\"rss.php\" rel=\"alternate\" title=\"Baka Updates Manga RSS\" type=\"application/rss+xml\"/>\n",
       "<link href=\"mangaupdates.xml\" rel=\"search\" title=\"MangaUpdates Search\" type=\"application/opensearchdescription+xml\"/>\n",
       "</head>\n",
       "<body>\n",
       "<script src=\"dist/main.35477e88acdffef5682b.js\" type=\"text/javascript\"></script>\n",
       "<div class=\"d-none\" id=\"mu-sidebar\">\n",
       "<div class=\"d-flex flex-column sidebar-fill\">\n",
       "<div class=\"series_comment flex-shrink-0\">\n",
       "<div class=\"row no-gutters\">\n",
       "<div class=\"p-2 col-auto comment_avatar d-flex align-items-center justify-content-center\">\n",
       "<img alt=\"avatar\" src=\"avatar/0\"/>\n",
       "</div>\n",
       "<div class=\"col align-self-center\">\n",
       "<div class=\"d-block pb-1\"><span class=\"specialtext\">Guest</span></div>\n",
       "<div class=\"d-block pt-1\"><a href=\"https://www.mangaupdates.com/login.html\"><u>Login</u></a> | <a href=\"https://www.mangaupdates.com/signup.html\"><u>Sign Up</u></a></div>\n",
       "</div>\n",
       "</div>\n",
       "</div>\n",
       "<div class=\"sidebar-nav flex-grow-1 position-relative\">\n",
       "<ul class=\"m-0\">\n",
       "<li class=\"nav\">\n",
       "<a href=\"https://www.mangaupdates.com/poll.html\">\n",
       "<div class=\"d-flex\">\n",
       "<div class=\"d-inline-block align-self-center\">Poll: </div>\n",
       "<div class=\"flex-fill p-0 my-auto d-inline-block poll_sidebar_text\">How often do you reread a series and realize it isn't as good as you remember?</div>\n",
       "</div>\n",
       "</a>\n",
       "</li>\n",
       "<li class=\"nav\"><a href=\"https://www.mangaupdates.com/search.html\">Search</a></li>\n",
       "<li class=\"nav\"><a href=\"https://www.mangaupdates.com/index.html\">News</a></li>\n",
       "<li class=\"nav\"><a href=\"https://www.mangaupdates.com/releases.html\">Releases</a></li>\n",
       "<li class=\"nav\"><a href=\"https://www.mangaupdates.com/series.html?letter=A\">Series Info</a></li>\n",
       "<li class=\"nav\"><a href=\"https://www.mangaupdates.com/whatsnew.html\">What's New!</a></li>\n",
       "<li class=\"nav\"><a href=\"https://www.mangaupdates.com/stats.html\">Series Stats</a></li>\n",
       "<li class=\"nav\"><a href=\"https://www.mangaupdates.com/forums.php\">Forums</a></li>\n",
       "<li class=\"nav\"><a href=\"https://www.mangaupdates.com/groups.html\">Scanlators</a></li>\n",
       "<li class=\"nav\"><a href=\"https://www.mangaupdates.com/authors.html\">Mangaka</a></li>\n",
       "<li class=\"nav\"><a href=\"https://www.mangaupdates.com/publishers.html\">Publishers</a></li>\n",
       "<li class=\"nav\"><a href=\"https://www.mangaupdates.com/reviews.html\">Reviews</a></li>\n",
       "<li class=\"nav\"><a href=\"https://www.mangaupdates.com/genres.html\">Genres</a></li>\n",
       "<li class=\"nav\"><a href=\"https://www.mangaupdates.com/categories.html\">Categories</a></li>\n",
       "<li class=\"nav\"><a href=\"https://www.mangaupdates.com/faq.html\">FAQ</a></li>\n",
       "<li class=\"nav\"><a href=\"https://www.mangaupdates.com/members.html\">Members</a></li>\n",
       "<li class=\"nav\"><a href=\"https://www.mangaupdates.com/aboutus.html\">About Us</a></li>\n",
       "</ul>\n",
       "</div>\n",
       "</div>\n",
       "</div>\n",
       "<div class=\"container-fluid body_content d-flex flex-column\" id=\"mu-main-content\">\n",
       "<div class=\"d-block\" style=\"min-height: 1px\">\n",
       "<!-- the above min-height: 1px fixes some bizarre IE bug with the header -->\n",
       "<!-- Start:Banner -->\n",
       "<div class=\"top-banner\"><a href=\"/\"><img alt=\"banner_jpg\" class=\"img-fluid\" src=\"images/header.jpg\"/></a></div>\n",
       "<!-- End:Banner -->\n",
       "<!-- Start:Login Bar -->\n",
       "<div class=\"row no-gutters\">\n",
       "<div class=\"col-md-4 d-none d-md-block\"></div>\n",
       "<div class=\"col-md-8 d-none d-md-block round-border-gradient-left\">\n",
       "<!-- Start:Login Content -->\n",
       "<form action=\"login.html\" method=\"post\">\n",
       "<input name=\"act\" type=\"hidden\" value=\"login\"/>\n",
       "<div class=\"small_bold text-nowrap align-self-center\" id=\"login_box_padding\">\n",
       "        Username:\n",
       "         \n",
       "        <input class=\"small_input\" name=\"username\" type=\"text\"/>\n",
       "\t\t \n",
       "        Password:\n",
       "         \n",
       "        <input class=\"small_input\" name=\"password\" type=\"password\"/>\n",
       "         \n",
       "        <button class=\"btn btn-primary inbox small_button\" type=\"submit\">Login</button>\n",
       "         \n",
       "\t\t<a href=\"signup.html?act=forgotpass\" title=\"Forgot Password?\">\n",
       "<button class=\"btn btn-primary inbox small_button question_mark\" type=\"button\">?</button>\n",
       "</a>\n",
       "</div>\n",
       "</form>\n",
       "<!-- End:Login Content -->\n",
       "</div>\n",
       "<!-- End:Login Bar -->\n",
       "</div>\n",
       "</div>\n",
       "<!-- Start:Main Content Area -->\n",
       "<div class=\"row no-gutters flex-fill flex-nowrap\">\n",
       "<!-- Start:Left Bar Content -->\n",
       "<div class=\"left-side-bar d-none d-md-flex flex-column\">\n",
       "<div class=\"position-relative medium_bold round-border-gradient text-center\">App</div>\n",
       "<div class=\"p-1 side_content_row side_extend text text-center\"><p>Try out our new iPhone application!</p>\n",
       "<p><a href=\"https://itunes.apple.com/us/app/mangaupdates/id598640522?ls=1&amp;mt=8\" target=\"_blank\"><img alt=\"App\" border=\"0\" src=\"images/as.png\" style=\"max-width: 100px\"/></a></p></div>\n",
       "<div class=\"position-relative behind-border medium_bold round-border-gradient text-center\">Manga Poll</div>\n",
       "<div class=\"p-1 side_content_row text\">\n",
       "<!-- Start:Poll -->\n",
       "<form action=\"https://www.mangaupdates.com/poll.html\" method=\"POST\">\n",
       "<input name=\"act\" type=\"hidden\" value=\"poll\"/>\n",
       "<div class=\"row no-gutters\">\n",
       "<div class=\"p-1 col-12 text-center textbold\">How often do you reread a series and realize it isn't as good as you remember?</div>\n",
       "<div class=\"p-1 col-2 text-center\"><input name=\"poll_choice\" type=\"radio\" value=\"4629\"/></div>\n",
       "<div class=\"p-1 col-10 textbold\">Always</div>\n",
       "<div class=\"p-1 col-2 text-center\"><input name=\"poll_choice\" type=\"radio\" value=\"4630\"/></div>\n",
       "<div class=\"p-1 col-10 textbold\">Usually</div>\n",
       "<div class=\"p-1 col-2 text-center\"><input name=\"poll_choice\" type=\"radio\" value=\"4631\"/></div>\n",
       "<div class=\"p-1 col-10 textbold\">Sometimes</div>\n",
       "<div class=\"p-1 col-2 text-center\"><input name=\"poll_choice\" type=\"radio\" value=\"4632\"/></div>\n",
       "<div class=\"p-1 col-10 textbold\">Seldom</div>\n",
       "<div class=\"p-1 col-2 text-center\"><input name=\"poll_choice\" type=\"radio\" value=\"4633\"/></div>\n",
       "<div class=\"p-1 col-10 textbold\">Never</div>\n",
       "<div class=\"p-1 col-12 text-center\"><button class=\"btn btn-primary inbox\" type=\"submit\">Vote</button> <a href=\"https://www.mangaupdates.com/poll.html?act=results\" rel=\"nofollow\"><button class=\"btn btn-primary inbox\" type=\"button\">Result</button></a></div>\n",
       "<div class=\"col-12 p-2 text text-center\"><a href=\"poll.html?act=old_polls\"><u>See Old Polls</u></a></div>\n",
       "</div>\n",
       "</form>\n",
       "<!-- End:Poll -->\n",
       "</div>\n",
       "<div class=\"p-2 text-center text-small left_right_content_bottom side_dark_content_row flex-fill\">\n",
       "<img alt=\"\" class=\"img-fluid\" src=\"images/mascot.gif\"/>\n",
       "<!-- chu chu --><br/><b>Manga</b> is the Japanese equivalent of comics<br/>with a unique style and following.  Join the revolution!  Read some manga today!\n",
       "       <br/><br/><b>Join <a href=\"irc://irc.irchighway.net/baka-updates\">#baka-updates @irc.irchighway.net</a><br/><br/><a href=\"rss.php\"><u>RSS Feed</u></a><br/> <br/></b>\n",
       "</div>\n",
       "</div>\n",
       "<!-- End:Left Bar Content -->\n",
       "<!-- Start:Center Content -->\n",
       "<div class=\"col d-flex flex-column center-side-bar flex-shrink-1\">\n",
       "<div class=\"row no-gutters\">\n",
       "<div class=\"title-column round-border-gradient-dark\">\n",
       "<div class=\"title-element text-center large_bold\">Scanlators</div>\n",
       "</div>\n",
       "<div class=\"signup-column center-top-row align-items-center d-none d-md-flex justify-content-end\">\n",
       "<div id=\"signupbutton\"><a href=\"https://www.mangaupdates.com/signup.html\"><button class=\"btn btn-primary inbox\" type=\"submit\">Sign Up</button></a></div>\n",
       "</div>\n",
       "<div class=\"d-md-none d-flex justify-content-end center-top-row bars-column\">\n",
       "<div class=\"small_bold d-flex align-items-center pr-2\"> <div id=\"signupbutton\"><a href=\"https://www.mangaupdates.com/signup.html\"><button class=\"btn btn-primary inbox\" type=\"submit\">Sign Up</button></a></div></div>\n",
       "<div class=\"pl-3 pr-2 d-flex justify-content-center align-items-center mu-sidebar-toggle\">\n",
       "<span class=\"fas fa-bars\" id=\"hamburger_button\"></span>\n",
       "</div>\n",
       "</div>\n",
       "</div>\n",
       "<div class=\"row no-gutters\">\n",
       "<div class=\"col-12 text\" id=\"main_content\">\n",
       "<div class=\"p-2 pt-2 pb-2 text\">\n",
       "<div class=\"general_table\">\n",
       "<div class=\"row no-gutters\">\n",
       "<div class=\"col-12 title-element text-truncate medium_bold round-border-gradient-dark\">Group Info</div>\n",
       "</div>\n",
       "<div class=\"row no-gutters\">\n",
       "<div class=\"table_content col-12 text\">\n",
       "<div class=\"row no-gutters\">\n",
       "<div class=\"p-1 col-6 text\"><u>Group Name</u></div>\n",
       "<div class=\"p-1 col-6 specialtext\">...and other escapades</div>\n",
       "<div class=\"p-1 col-6 text\"><u>IRC</u></div>\n",
       "<div class=\"p-1 col-6 text\"><i>No IRC</i></div>\n",
       "<div class=\"p-1 col-6 text\"><u>Twitter</u></div>\n",
       "<div class=\"p-1 col-6 text\"><i>No Twitter</i></div>\n",
       "<div class=\"p-1 col-6 text\"><u>Facebook</u></div>\n",
       "<div class=\"p-1 col-6 text\"><i>No Facebook</i></div>\n",
       "<div class=\"p-1 col-6 text\"><u>Release Frequency</u></div>\n",
       "<div class=\"p-1 col-6 text\">Inactive Group</div>\n",
       "<div class=\"p-1 col-6 text\"><u>Number of Releases</u></div>\n",
       "<div class=\"p-1 col-6 text\">2</div>\n",
       "<div class=\"p-1 col-6 text\"><u>Active</u><br/>A group is designated as inactive<br/>if it hasn't release in the past 6 months.</div>\n",
       "<div class=\"p-1 col-6 text\"><b>No</b></div>\n",
       "<div class=\"p-1 col-6 text\"><u>Total Series</u></div>\n",
       "<div class=\"p-1 col-6 text\">2</div>\n",
       "<div class=\"p-1 col-6 text\"><u>Genres</u><br/>Main genres this group scanlates.</div>\n",
       "<div class=\"p-1 col-6 text\">Doujinshi (2), Yaoi (1), Shounen Ai (1)</div>\n",
       "<div class=\"p-1 col-6 text\"><u>Categories</u><br/>Main categories this group scanlates.</div>\n",
       "<div class=\"p-1 col-6 text\"></div>\n",
       "</div>\n",
       "</div>\n",
       "</div>\n",
       "</div>\n",
       "<div style=\"margin-top:9px!important\"></div>\n",
       "<div class=\"general_table\">\n",
       "<div class=\"row no-gutters\">\n",
       "<div class=\"col-12 title-element text-truncate medium_bold round-border-gradient-dark\">Releases by this group</div>\n",
       "</div>\n",
       "<div class=\"row no-gutters\">\n",
       "<div class=\"table_content col-12 text\">\n",
       "<!-- Start:Release Rows -->\n",
       "<div class=\"row no-gutters\">\n",
       "<div class=\"col-2 releasestitle\"><b><a href=\"https://www.mangaupdates.com/groups.html?id=1665&amp;orderby=date\" rel=\"nofollow\">Date</a></b><a href=\"https://www.mangaupdates.com/groups.html?id=1665&amp;asc=asc\"><img border=\"0\" src=\"images/carrot_down.gif\"/></a></div>\n",
       "<div class=\"col-4 releasestitle\"><b><a href=\"https://www.mangaupdates.com/groups.html?id=1665&amp;orderby=title\" rel=\"nofollow\">Title</a></b></div>\n",
       "<div class=\"col-1 releasestitle text-center\"><b><a href=\"https://www.mangaupdates.com/groups.html?id=1665&amp;orderby=vol\" rel=\"nofollow\">Vol</a></b></div>\n",
       "<div class=\"col-1 releasestitle text-center\"><b><a href=\"https://www.mangaupdates.com/groups.html?id=1665&amp;orderby=chap\" rel=\"nofollow\">Chp</a></b></div>\n",
       "<div class=\"col-4 releasestitle\"><b>Groups</b></div>\n",
       "<div class=\"col-12\"> </div>\n",
       "<div class=\"col-2 text\">01/28/08</div>\n",
       "<div class=\"col-4 text\"><a href=\"https://www.mangaupdates.com/series.html?id=23677\" title=\"Series Info\">One Piece dj - Erotica</a></div>\n",
       "<div class=\"col-1 text text-center\"></div>\n",
       "<div class=\"col-1 text text-center\"><span>part a</span></div>\n",
       "<div class=\"col-4 text\"><a href=\"https://www.mangaupdates.com/groups.html?id=1665\" title=\"Group Info\">...and other escapades</a></div>\n",
       "<div class=\"col-2 text\" style=\"background-color:#E4E7EB\">01/28/08</div>\n",
       "<div class=\"col-4 text\" style=\"background-color:#E4E7EB\"><a href=\"https://www.mangaupdates.com/series.html?id=23673\" title=\"Series Info\">One Piece dj - Replay</a></div>\n",
       "<div class=\"col-1 text text-center\" style=\"background-color:#E4E7EB\"></div>\n",
       "<div class=\"col-1 text text-center\" style=\"background-color:#E4E7EB\"><span></span></div>\n",
       "<div class=\"col-4 text\" style=\"background-color:#E4E7EB\"><a href=\"https://www.mangaupdates.com/groups.html?id=1665\" title=\"Group Info\">...and other escapades</a></div>\n",
       "<div class=\"p-1 col-12\"></div>\n",
       "<div class=\"p-1 col-sm-6\">\n",
       "<form action=\"https://www.mangaupdates.com/groups.html?id=1665\" method=\"post\">\n",
       "<div class=\"p-0 text d-flex\">\n",
       "<div class=\"my-auto\">Show </div>\n",
       "<div class=\"col-auto p-0\"><select class=\"inbox\" name=\"perpage\"><option value=\"5\">5</option><option value=\"10\">10</option><option value=\"15\">15</option><option selected=\"\" value=\"25\">25</option><option value=\"30\">30</option><option value=\"40\">40</option><option value=\"50\">50</option><option value=\"75\">75</option><option value=\"100\">100</option></select></div>\n",
       "<div class=\"my-auto\"> per page </div>\n",
       "<div><button class=\"btn btn-primary inbox\" type=\"submit\">Go</button></div>\n",
       "</div>\n",
       "</form>\n",
       "</div>\n",
       "<div class=\"p-1 col-sm-6 text align-self-center\">\n",
       "<form action=\"https://www.mangaupdates.com/groups.html\" method=\"post\">\n",
       "<input name=\"id\" type=\"hidden\" value=\"1665\"/>\n",
       "<div class=\"d-flex justify-content-end\">\n",
       "<div class=\"my-auto\">Quick Search </div>\n",
       "<div class=\"col-5 p-0\">\n",
       "<input class=\"form-control inbox\" id=\"quickSearch\" name=\"search\" placeholder=\"Naruto...\" type=\"text\"/>\n",
       "</div>\n",
       "       \n",
       "      <button class=\"btn btn-primary inbox\" type=\"submit\">Go</button>\n",
       "</div>\n",
       "</form>\n",
       "</div>\n",
       "</div>\n",
       "<!-- End:Release Rows -->\n",
       "</div>\n",
       "</div>\n",
       "</div>\n",
       "<div style=\"margin-top:9px!important\"></div>\n",
       "<div class=\"general_table\">\n",
       "<div class=\"row no-gutters\">\n",
       "<div class=\"col-12 title-element text-truncate medium_bold round-border-gradient-dark\">Series</div>\n",
       "</div>\n",
       "<div class=\"row no-gutters\">\n",
       "<div class=\"table_content col-12 text\">\n",
       "<div class=\"row no-gutters\">\n",
       "<div class=\"p-1 col-6 text-truncate text\"><a href=\"https://www.mangaupdates.com/series.html?id=23677\" title=\"Series Info\">One Piece dj - Erotica</a></div>\n",
       "<div class=\"p-1 col-6 text-truncate text\" style=\"background-color:#E4E7EB\"><a href=\"https://www.mangaupdates.com/series.html?id=23673\" title=\"Series Info\">One Piece dj - Replay</a></div>\n",
       "</div>\n",
       "</div>\n",
       "</div>\n",
       "</div>\n",
       "<div style=\"margin-top:9px!important\"></div>\n",
       "</div>\n",
       "</div>\n",
       "</div>\n",
       "<!-- Start:Footer -->\n",
       "<div class=\"mt-auto row no-gutters d-none d-md-block\" id=\"footer\">\n",
       "<div class=\"col-12 text-right footer_background\"><img alt=\"footer\" class=\"img-fluid\" src=\"images/footer.jpg\"/></div>\n",
       "</div>\n",
       "<!-- End:Footer -->\n",
       "</div>\n",
       "<!-- End:Center Content -->\n",
       "<!-- Start:Right Bar Content -->\n",
       "<div class=\"position-relative right-side-bar d-none d-md-flex flex-column\">\n",
       "<div class=\"right-sidebar-background\"></div>\n",
       "<div class=\"position-relative medium_bold round-border-gradient-dark text-center\">Search</div>\n",
       "<div class=\"p-1 text text-center side_dark_content_row right_search_row\">\n",
       "<form action=\"https://www.mangaupdates.com/search.html\" method=\"post\">\n",
       "<div class=\"row no-gutters\">\n",
       "<div class=\"p-1 col\">\n",
       "<input class=\"inbox\" name=\"search\" type=\"text\" value=\"\"/>\n",
       "</div>\n",
       "<div class=\"p-1 col-auto align-self-center\">\n",
       "<button class=\"btn btn-primary inbox\" type=\"submit\">Go</button>\n",
       "</div>\n",
       "</div>\n",
       "</form>\n",
       "<div><a href=\"/series.html?act=genresearch\"><u>Advanced Search</u></a></div>\n",
       "</div>\n",
       "<div class=\"text side_content_row\">\n",
       "<ul class=\"mt-1\">\n",
       "<li class=\"navtitle newsname\"><u>MANGA Fu</u></li>\n",
       "<li class=\"nav\"><a href=\"https://www.mangaupdates.com/index.html\">News</a></li>\n",
       "<li class=\"nav\"><a href=\"https://www.mangaupdates.com/whatsnew.html\">What's New!</a></li>\n",
       "<li class=\"nav\"><a href=\"https://www.mangaupdates.com/stats.html\">Series Stats</a></li>\n",
       "<li class=\"nav\"><a href=\"https://www.mangaupdates.com/forums.php\">Forums</a></li>\n",
       "<li class=\"nav mt-2\"><a href=\"https://www.mangaupdates.com/releases.html\">Releases</a></li>\n",
       "<li class=\"nav\"><a href=\"https://www.mangaupdates.com/groups.html\">Scanlators</a></li>\n",
       "<li class=\"nav\"><a href=\"https://www.mangaupdates.com/series.html?letter=A\">Series Info</a></li>\n",
       "<li class=\"nav\"><a href=\"https://www.mangaupdates.com/authors.html\">Mangaka</a></li>\n",
       "<li class=\"nav\"><a href=\"https://www.mangaupdates.com/publishers.html\">Publishers</a></li>\n",
       "<li class=\"nav\"><a href=\"https://www.mangaupdates.com/reviews.html\">Reviews</a></li>\n",
       "<li class=\"nav mt-2\"><a href=\"https://www.mangaupdates.com/genres.html\">Genres</a></li>\n",
       "<li class=\"nav\"><a href=\"https://www.mangaupdates.com/categories.html\">Categories</a></li>\n",
       "<li class=\"nav mt-2\"><a href=\"https://www.mangaupdates.com/faq.html\">FAQ</a></li>\n",
       "<li class=\"nav\"><a href=\"https://www.mangaupdates.com/members.html\">Members</a></li>\n",
       "<li class=\"navtitle newsname mt-2\"><u>MEMBERS</u></li>\n",
       "<li class=\"nav\"><a href=\"https://www.mangaupdates.com/submit.html\">Sign Up</a></li>\n",
       "<li class=\"navtitle newsname mt-2\"><u>TEAM-BU</u></li>\n",
       "<li class=\"nav\"><a href=\"https://www.mangaupdates.com/admin.php\" rel=\"nofollow\">Admin CP</a></li>\n",
       "<li class=\"nav\"><a href=\"https://www.mangaupdates.com/aboutus.html\">About Us</a></li>\n",
       "</ul>\n",
       "</div>\n",
       "<div class=\"flex-fill text side_content_row left_right_content_bottom text-center\"></div>\n",
       "</div>\n",
       "<!-- End:Right Bar Content -->\n",
       "</div>\n",
       "<!-- End:Main Content Area -->\n",
       "</div>\n",
       "<script type=\"text/javascript\">\n",
       "var gaJsHost = ((\"https:\" == document.location.protocol) ? \"https://ssl.\" : \"http://www.\");\n",
       "document.write(unescape(\"%3Cscript src='\" + gaJsHost + \"google-analytics.com/ga.js' type='text/javascript'%3E%3C/script%3E\"));\n",
       "</script>\n",
       "<script type=\"text/javascript\">\n",
       "try{\n",
       "var pageTracker = _gat._getTracker(\"UA-177442-2\");\n",
       "pageTracker._trackPageview();\n",
       "} catch(err) {}\n",
       "</script>\n",
       "</body>\n",
       "</html>"
      ]
     },
     "execution_count": 48,
     "metadata": {},
     "output_type": "execute_result"
    }
   ],
   "source": [
    "page_test = 'https://www.mangaupdates.com/groups.html?id=1665'\n",
    "req_test = requests.get(page_test)\n",
    "d_soup_test = bs(req_test.content)\n",
    "d_soup_test"
   ]
  },
  {
   "cell_type": "code",
   "execution_count": 53,
   "metadata": {},
   "outputs": [
    {
     "data": {
      "text/plain": [
       "'...and other escapades'"
      ]
     },
     "execution_count": 53,
     "metadata": {},
     "output_type": "execute_result"
    }
   ],
   "source": [
    "GroupName_test = d_soup_test.find_all(\"div\", \"p-1 col-6 specialtext\")\n",
    "GroupName_test[0].text"
   ]
  },
  {
   "cell_type": "code",
   "execution_count": 55,
   "metadata": {},
   "outputs": [
    {
     "data": {
      "text/plain": [
       "'Inactive Group'"
      ]
     },
     "execution_count": 55,
     "metadata": {},
     "output_type": "execute_result"
    }
   ],
   "source": [
    "OtherInfo_test = d_soup_test.find_all(\"div\", \"p-1 col-6 text\")\n",
    "ReleaseFrequency_test = OtherInfo_test[8].text\n",
    "ReleaseFrequency_test"
   ]
  },
  {
   "cell_type": "code",
   "execution_count": 56,
   "metadata": {},
   "outputs": [
    {
     "data": {
      "text/plain": [
       "'Doujinshi (2), Yaoi (1), Shounen Ai (1)'"
      ]
     },
     "execution_count": 56,
     "metadata": {},
     "output_type": "execute_result"
    }
   ],
   "source": [
    "Genres_test = OtherInfo_test[16].text\n",
    "Genres_test"
   ]
  },
  {
   "cell_type": "code",
   "execution_count": 57,
   "metadata": {},
   "outputs": [
    {
     "data": {
      "text/plain": [
       "<div class=\"col-2 text\">01/28/08</div>"
      ]
     },
     "execution_count": 57,
     "metadata": {},
     "output_type": "execute_result"
    }
   ],
   "source": [
    "d_soup_test.find_all(\"div\", \"col-2 text\")[0]"
   ]
  },
  {
   "cell_type": "code",
   "execution_count": 59,
   "metadata": {},
   "outputs": [
    {
     "data": {
      "text/plain": [
       "'2'"
      ]
     },
     "execution_count": 59,
     "metadata": {},
     "output_type": "execute_result"
    }
   ],
   "source": [
    "NumberofRelease_test = OtherInfo_test[10].text\n",
    "NumberofRelease_test"
   ]
  },
  {
   "cell_type": "code",
   "execution_count": 66,
   "metadata": {},
   "outputs": [
    {
     "data": {
      "text/plain": [
       "[]"
      ]
     },
     "execution_count": 66,
     "metadata": {},
     "output_type": "execute_result"
    }
   ],
   "source": [
    "d_soup_test.find_all(\"span\",\"d-none\")"
   ]
  },
  {
   "cell_type": "code",
   "execution_count": null,
   "metadata": {},
   "outputs": [],
   "source": []
  }
 ],
 "metadata": {
  "kernelspec": {
   "display_name": "Python 3",
   "language": "python",
   "name": "python3"
  },
  "language_info": {
   "codemirror_mode": {
    "name": "ipython",
    "version": 3
   },
   "file_extension": ".py",
   "mimetype": "text/x-python",
   "name": "python",
   "nbconvert_exporter": "python",
   "pygments_lexer": "ipython3",
   "version": "3.7.3"
  }
 },
 "nbformat": 4,
 "nbformat_minor": 2
}
